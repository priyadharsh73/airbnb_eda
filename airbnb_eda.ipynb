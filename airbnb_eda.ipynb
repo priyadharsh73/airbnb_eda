{
  "nbformat": 4,
  "nbformat_minor": 0,
  "metadata": {
    "colab": {
      "provenance": [],
      "authorship_tag": "ABX9TyPhnXzDdhL9vIgvjdC8RELp",
      "include_colab_link": true
    },
    "kernelspec": {
      "name": "python3",
      "display_name": "Python 3"
    },
    "language_info": {
      "name": "python"
    }
  },
  "cells": [
    {
      "cell_type": "markdown",
      "metadata": {
        "id": "view-in-github",
        "colab_type": "text"
      },
      "source": [
        "<a href=\"https://colab.research.google.com/github/priyadharsh73/airbnb_eda/blob/main/airbnb_eda.ipynb\" target=\"_parent\"><img src=\"https://colab.research.google.com/assets/colab-badge.svg\" alt=\"Open In Colab\"/></a>"
      ]
    },
    {
      "cell_type": "markdown",
      "source": [
        "# In-depth Exploratory Data Analysis of Airbnb Dataset\n",
        "\n",
        "## Introduction\n",
        "This notebook provides an in-depth exploratory data analysis (EDA) of the Airbnb dataset. The objective is to uncover insights and patterns in the data to better understand the factors influencing Airbnb listings.\n",
        "\n",
        "### Airbnb Dataset Column Descriptions\n",
        "\n",
        "| Column Name                      | Description                                                                 | Data Type   |\n",
        "|----------------------------------|-----------------------------------------------------------------------------|-------------|\n",
        "| id                               | Unique identifier for the listing                                           | int64       |\n",
        "| name                             | Name of the listing                                                         | object      |\n",
        "| host_id                          | Unique identifier for the host                                              | int64       |\n",
        "| host_identity_verified           | Whether the host's identity is verified                                     | object      |\n",
        "| host_name                        | Name of the host                                                            | object      |\n",
        "| neighbourhood_group              | Grouping of neighbourhoods                                                  | object      |\n",
        "| neighbourhood                    | Name of the neighbourhood                                                   | object      |\n",
        "| lat                              | Latitude of the listing                                                     | float64     |\n",
        "| long                             | Longitude of the listing                                                    | float64     |\n",
        "| country                          | Country where the listing is located                                        | object      |\n",
        "| country_code                     | Country code                                                                | object      |\n",
        "| instant_bookable                 | Whether the listing is instantly bookable                                   | object      |\n",
        "| cancellation_policy              | Cancellation policy of the listing                                          | object      |\n",
        "| room_type                        | Type of room offered                                                        | object      |\n",
        "| construction_year                | Year the property was constructed                                           | float64     |\n",
        "| price                            | Price per night                                                             | float64     |\n",
        "| service_fee                      | Service fee charged                                                         | float64     |\n",
        "| minimum_nights                   | Minimum number of nights required to book                                   | float64     |\n",
        "| number_of_reviews                | Total number of reviews received                                            | float64     |\n",
        "| last_review                      | Date of the last review                                                     | datetime64  |\n",
        "| reviews_per_month                | Average number of reviews per month                                         | float64     |\n",
        "| review_rate_number               | Average rating of the listing                                               | float64     |\n",
        "| calculated_host_listings_count   | Total number of listings by the host                                        | float64     |\n",
        "| availability_365                 | Number of days the listing is available in a year                           | float64     |\n",
        "| house_rules                      | House rules for the listing                                                 | object      |\n",
        "| license                          | License number of the listing (if applicable)                               | object      |"
      ],
      "metadata": {
        "id": "QCG0Hy1VcZ3i"
      }
    },
    {
      "cell_type": "markdown",
      "source": [
        "## Data Loading and Preparation\n",
        "\n",
        "### Import Libraries\n",
        "First, import the necessary libraries for data manipulation, visualization, and mapping."
      ],
      "metadata": {
        "id": "5nPDJ_mpq1MJ"
      }
    },
    {
      "cell_type": "code",
      "execution_count": 1,
      "metadata": {
        "id": "BYGbMPg_TW_t"
      },
      "outputs": [],
      "source": [
        "import pandas as pd\n",
        "import numpy as np\n",
        "import matplotlib.pyplot as plt\n",
        "import seaborn as sns\n",
        "import plotly.express as px\n",
        "import plotly.graph_objects as go\n",
        "import folium\n",
        "from folium.plugins import MarkerCluster\n",
        "import zipfile\n",
        "import requests\n",
        "from io import BytesIO"
      ]
    },
    {
      "cell_type": "markdown",
      "source": [
        "### Download and Extract ZIP File from GitHub\n",
        "\n",
        "This step involves downloading the ZIP file containing the Airbnb dataset from GitHub and extracting the CSV file from it. The `requests` library is used to download the file, and the `zipfile` and `io` libraries are used to handle the extraction. The extracted CSV file is then read into a pandas DataFrame for further analysis.\n"
      ],
      "metadata": {
        "id": "Ai1K8fqKhABf"
      }
    },
    {
      "cell_type": "code",
      "source": [
        "# URL of the ZIP file on GitHub (direct download link)\n",
        "url = 'https://github.com/priyadharsh73/airbnb_eda/raw/main/airbnb_dataset.zip'\n",
        "filename = 'Airbnb_Open_Data.csv'\n",
        "\n",
        "# Download the ZIP file\n",
        "response = requests.get(url)\n",
        "zip_file = BytesIO(response.content)\n",
        "\n",
        "# Check if the response is valid\n",
        "if response.status_code == 200:\n",
        "    try:\n",
        "        # Extract the ZIP file\n",
        "        with zipfile.ZipFile(zip_file, 'r') as z:\n",
        "            # List all files in the ZIP\n",
        "            print(z.namelist())\n",
        "\n",
        "            # Extract and read the CSV file\n",
        "            with z.open(filename) as f:\n",
        "                df = pd.read_csv(f, low_memory=False)\n",
        "\n",
        "        # Display the first few rows of the DataFrame\n",
        "    except zipfile.BadZipFile:\n",
        "        print(\"Error: The file is not a valid ZIP file.\")\n",
        "else:\n",
        "    print(f\"Error: Failed to download the file. Status code: {response.status_code}\")\n"
      ],
      "metadata": {
        "colab": {
          "base_uri": "https://localhost:8080/"
        },
        "id": "8dESewrieOsB",
        "outputId": "995ca88f-6ddb-4005-a66e-65604d92d371"
      },
      "execution_count": 20,
      "outputs": [
        {
          "output_type": "stream",
          "name": "stdout",
          "text": [
            "['Airbnb_Open_Data.csv']\n"
          ]
        }
      ]
    },
    {
      "cell_type": "markdown",
      "source": [
        "###Clean Column Names\n",
        "- Use the `str.replace()` method to replace spaces with underscores.\n",
        "- Use the `str.lower()` method to convert column names to lowercase.\n",
        "\n",
        "Here’s the code to clean the column names:"
      ],
      "metadata": {
        "id": "cnll1ChoqIGG"
      }
    },
    {
      "cell_type": "code",
      "source": [
        "# Clean column names by replacing spaces with underscores and converting to lowercase\n",
        "df.columns = df.columns.str.replace(' ', '_').str.lower()\n",
        "\n",
        "# Check the cleaned column names\n",
        "print(\"Cleaned column names:\")\n",
        "print(df.columns)"
      ],
      "metadata": {
        "id": "SNAvH9JQqYYG",
        "outputId": "1fae969f-9fc8-4a5e-9127-4342233cd8ce",
        "colab": {
          "base_uri": "https://localhost:8080/"
        }
      },
      "execution_count": 21,
      "outputs": [
        {
          "output_type": "stream",
          "name": "stdout",
          "text": [
            "Cleaned column names:\n",
            "Index(['id', 'name', 'host_id', 'host_identity_verified', 'host_name',\n",
            "       'neighbourhood_group', 'neighbourhood', 'lat', 'long', 'country',\n",
            "       'country_code', 'instant_bookable', 'cancellation_policy', 'room_type',\n",
            "       'construction_year', 'price', 'service_fee', 'minimum_nights',\n",
            "       'number_of_reviews', 'last_review', 'reviews_per_month',\n",
            "       'review_rate_number', 'calculated_host_listings_count',\n",
            "       'availability_365', 'house_rules', 'license'],\n",
            "      dtype='object')\n"
          ]
        }
      ]
    },
    {
      "cell_type": "code",
      "source": [
        "df.info()"
      ],
      "metadata": {
        "id": "LVWZGOxKvtGx",
        "outputId": "d7ab8eb1-26f7-452a-9b29-e31bf8f2fb18",
        "colab": {
          "base_uri": "https://localhost:8080/"
        }
      },
      "execution_count": 22,
      "outputs": [
        {
          "output_type": "stream",
          "name": "stdout",
          "text": [
            "<class 'pandas.core.frame.DataFrame'>\n",
            "RangeIndex: 102599 entries, 0 to 102598\n",
            "Data columns (total 26 columns):\n",
            " #   Column                          Non-Null Count   Dtype  \n",
            "---  ------                          --------------   -----  \n",
            " 0   id                              102599 non-null  int64  \n",
            " 1   name                            102349 non-null  object \n",
            " 2   host_id                         102599 non-null  int64  \n",
            " 3   host_identity_verified          102310 non-null  object \n",
            " 4   host_name                       102193 non-null  object \n",
            " 5   neighbourhood_group             102570 non-null  object \n",
            " 6   neighbourhood                   102583 non-null  object \n",
            " 7   lat                             102591 non-null  float64\n",
            " 8   long                            102591 non-null  float64\n",
            " 9   country                         102067 non-null  object \n",
            " 10  country_code                    102468 non-null  object \n",
            " 11  instant_bookable                102494 non-null  object \n",
            " 12  cancellation_policy             102523 non-null  object \n",
            " 13  room_type                       102599 non-null  object \n",
            " 14  construction_year               102385 non-null  float64\n",
            " 15  price                           102352 non-null  object \n",
            " 16  service_fee                     102326 non-null  object \n",
            " 17  minimum_nights                  102190 non-null  float64\n",
            " 18  number_of_reviews               102416 non-null  float64\n",
            " 19  last_review                     86706 non-null   object \n",
            " 20  reviews_per_month               86720 non-null   float64\n",
            " 21  review_rate_number              102273 non-null  float64\n",
            " 22  calculated_host_listings_count  102280 non-null  float64\n",
            " 23  availability_365                102151 non-null  float64\n",
            " 24  house_rules                     50468 non-null   object \n",
            " 25  license                         2 non-null       object \n",
            "dtypes: float64(9), int64(2), object(15)\n",
            "memory usage: 20.4+ MB\n"
          ]
        }
      ]
    },
    {
      "cell_type": "markdown",
      "source": [
        "### Misinterpreted Columns\n",
        "\n",
        "Based on the `info()` function output, the following columns have been misinterpreted:\n",
        "\n",
        "- **price**: Interpreted as `object`, should be `float`.\n",
        "- **service_fee**: Interpreted as `object`, should be `float`.\n",
        "- **minimum_nights**: Interpreted as `float64`, should be `int`.\n",
        "- **number_of_reviews**: Interpreted as `float64`, should be `int`.\n",
        "- **last_review**: Interpreted as `object`, should be `date`.\n",
        "- **construction_year**: Interpreted as `float64`, should be `int`."
      ],
      "metadata": {
        "id": "AWU6m6844QVy"
      }
    },
    {
      "cell_type": "markdown",
      "source": [
        "### Code to Correct Data Types"
      ],
      "metadata": {
        "id": "SKnVcM4y4wne"
      }
    },
    {
      "cell_type": "code",
      "source": [
        "# Convert price and service_fee columns to numeric after removing the dollar sign and commas\n",
        "df['price'] = df['price'].replace('[\\$,]', '', regex=True).astype(float)\n",
        "df['service_fee'] = df['service_fee'].replace('[\\$,]', '', regex=True).astype(float)\n",
        "\n",
        "# Convert minimum_nights and number_of_reviews to integers, ignoring rows with missing values\n",
        "df['minimum_nights'] = pd.to_numeric(df['minimum_nights'], errors='coerce').fillna(0).astype(int)\n",
        "df['number_of_reviews'] = pd.to_numeric(df['number_of_reviews'], errors='coerce').fillna(0).astype(int)\n",
        "\n",
        "# Convert last_review to datetime\n",
        "df['last_review'] = pd.to_datetime(df['last_review'], errors='coerce')\n",
        "\n",
        "# Convert construction_year to integer\n",
        "df['construction_year'] = df['construction_year'].astype('Int64')\n"
      ],
      "metadata": {
        "id": "owBWy-Li5FP4"
      },
      "execution_count": 23,
      "outputs": []
    },
    {
      "cell_type": "markdown",
      "source": [
        "The following columns had their data types corrected:\n",
        "- `price` and `service_fee` were converted to numeric data types after removing the dollar signs and commas.\n",
        "- `minimum_nights` and `number_of_reviews` were converted to integers, with missing values filled with 0.\n",
        "- `last_review` was converted to datetime.\n",
        "- `construction_year` was converted to integer."
      ],
      "metadata": {
        "id": "qCFKC-pD5z6W"
      }
    },
    {
      "cell_type": "code",
      "source": [
        "# Summary of missing values\n",
        "missing_values_summary = df.isna().sum()\n",
        "\n",
        "# Display the summary of missing values\n",
        "missing_values_summary"
      ],
      "metadata": {
        "id": "4TIVl8rRwWq5",
        "outputId": "a22574e8-b2c2-4a85-b88f-adb1af78775f",
        "colab": {
          "base_uri": "https://localhost:8080/",
          "height": 899
        }
      },
      "execution_count": 24,
      "outputs": [
        {
          "output_type": "execute_result",
          "data": {
            "text/plain": [
              "id                                     0\n",
              "name                                 250\n",
              "host_id                                0\n",
              "host_identity_verified               289\n",
              "host_name                            406\n",
              "neighbourhood_group                   29\n",
              "neighbourhood                         16\n",
              "lat                                    8\n",
              "long                                   8\n",
              "country                              532\n",
              "country_code                         131\n",
              "instant_bookable                     105\n",
              "cancellation_policy                   76\n",
              "room_type                              0\n",
              "construction_year                    214\n",
              "price                                247\n",
              "service_fee                          273\n",
              "minimum_nights                         0\n",
              "number_of_reviews                      0\n",
              "last_review                        15893\n",
              "reviews_per_month                  15879\n",
              "review_rate_number                   326\n",
              "calculated_host_listings_count       319\n",
              "availability_365                     448\n",
              "house_rules                        52131\n",
              "license                           102597\n",
              "dtype: int64"
            ],
            "text/html": [
              "<div>\n",
              "<style scoped>\n",
              "    .dataframe tbody tr th:only-of-type {\n",
              "        vertical-align: middle;\n",
              "    }\n",
              "\n",
              "    .dataframe tbody tr th {\n",
              "        vertical-align: top;\n",
              "    }\n",
              "\n",
              "    .dataframe thead th {\n",
              "        text-align: right;\n",
              "    }\n",
              "</style>\n",
              "<table border=\"1\" class=\"dataframe\">\n",
              "  <thead>\n",
              "    <tr style=\"text-align: right;\">\n",
              "      <th></th>\n",
              "      <th>0</th>\n",
              "    </tr>\n",
              "  </thead>\n",
              "  <tbody>\n",
              "    <tr>\n",
              "      <th>id</th>\n",
              "      <td>0</td>\n",
              "    </tr>\n",
              "    <tr>\n",
              "      <th>name</th>\n",
              "      <td>250</td>\n",
              "    </tr>\n",
              "    <tr>\n",
              "      <th>host_id</th>\n",
              "      <td>0</td>\n",
              "    </tr>\n",
              "    <tr>\n",
              "      <th>host_identity_verified</th>\n",
              "      <td>289</td>\n",
              "    </tr>\n",
              "    <tr>\n",
              "      <th>host_name</th>\n",
              "      <td>406</td>\n",
              "    </tr>\n",
              "    <tr>\n",
              "      <th>neighbourhood_group</th>\n",
              "      <td>29</td>\n",
              "    </tr>\n",
              "    <tr>\n",
              "      <th>neighbourhood</th>\n",
              "      <td>16</td>\n",
              "    </tr>\n",
              "    <tr>\n",
              "      <th>lat</th>\n",
              "      <td>8</td>\n",
              "    </tr>\n",
              "    <tr>\n",
              "      <th>long</th>\n",
              "      <td>8</td>\n",
              "    </tr>\n",
              "    <tr>\n",
              "      <th>country</th>\n",
              "      <td>532</td>\n",
              "    </tr>\n",
              "    <tr>\n",
              "      <th>country_code</th>\n",
              "      <td>131</td>\n",
              "    </tr>\n",
              "    <tr>\n",
              "      <th>instant_bookable</th>\n",
              "      <td>105</td>\n",
              "    </tr>\n",
              "    <tr>\n",
              "      <th>cancellation_policy</th>\n",
              "      <td>76</td>\n",
              "    </tr>\n",
              "    <tr>\n",
              "      <th>room_type</th>\n",
              "      <td>0</td>\n",
              "    </tr>\n",
              "    <tr>\n",
              "      <th>construction_year</th>\n",
              "      <td>214</td>\n",
              "    </tr>\n",
              "    <tr>\n",
              "      <th>price</th>\n",
              "      <td>247</td>\n",
              "    </tr>\n",
              "    <tr>\n",
              "      <th>service_fee</th>\n",
              "      <td>273</td>\n",
              "    </tr>\n",
              "    <tr>\n",
              "      <th>minimum_nights</th>\n",
              "      <td>0</td>\n",
              "    </tr>\n",
              "    <tr>\n",
              "      <th>number_of_reviews</th>\n",
              "      <td>0</td>\n",
              "    </tr>\n",
              "    <tr>\n",
              "      <th>last_review</th>\n",
              "      <td>15893</td>\n",
              "    </tr>\n",
              "    <tr>\n",
              "      <th>reviews_per_month</th>\n",
              "      <td>15879</td>\n",
              "    </tr>\n",
              "    <tr>\n",
              "      <th>review_rate_number</th>\n",
              "      <td>326</td>\n",
              "    </tr>\n",
              "    <tr>\n",
              "      <th>calculated_host_listings_count</th>\n",
              "      <td>319</td>\n",
              "    </tr>\n",
              "    <tr>\n",
              "      <th>availability_365</th>\n",
              "      <td>448</td>\n",
              "    </tr>\n",
              "    <tr>\n",
              "      <th>house_rules</th>\n",
              "      <td>52131</td>\n",
              "    </tr>\n",
              "    <tr>\n",
              "      <th>license</th>\n",
              "      <td>102597</td>\n",
              "    </tr>\n",
              "  </tbody>\n",
              "</table>\n",
              "</div><br><label><b>dtype:</b> int64</label>"
            ]
          },
          "metadata": {},
          "execution_count": 24
        }
      ]
    },
    {
      "cell_type": "markdown",
      "source": [
        "Insights on Missing Values\n",
        "The dataset contains several columns with missing values. Here is a grouped summary of the missing values:\n",
        "\n",
        "- **Identification and Location**:\n",
        "  - `id`, `host_id`, `room_type`, `minimum_nights`, and `number_of_reviews` have no missing values.\n",
        "  - `name`, `host_identity_verified`, `host_name`, `neighbourhood_group`, `neighbourhood`, `lat`, `long`, `country`, and `country_code` have a small to moderate number of missing values.\n",
        "\n",
        "- **Booking and Policy**:\n",
        "  - `instant_bookable`, `cancellation_policy`, `price`, and `service_fee` have a moderate number of missing values.\n",
        "  - `construction_year` has some missing values.\n",
        "\n",
        "- **Reviews and Availability**:\n",
        "  - `last_review` and `reviews_per_month` have a significant number of missing values.\n",
        "  - `review_rate_number`, `calculated_host_listings_count`, and `availability_365` have a moderate number of missing values.\n",
        "\n",
        "- **Additional Information**:\n",
        "  - `house_rules` has a large number of missing values.\n",
        "  - `license` is almost entirely missing.\n",
        "\n",
        "Handling these missing values appropriately is crucial for ensuring the quality and reliability of the analysis."
      ],
      "metadata": {
        "id": "HxWyMB0gxQ6g"
      }
    },
    {
      "cell_type": "markdown",
      "source": [
        "#### Dropping Insignificant Columns\n",
        "- Dropped the columns `license` and `house_rules` due to a high percentage of missing values and their insignificance for the analysis."
      ],
      "metadata": {
        "id": "tN1IXDq47n-t"
      }
    },
    {
      "cell_type": "code",
      "source": [
        "# Drop insignificant columns\n",
        "df.drop(columns=['license', 'house_rules'], inplace=True)"
      ],
      "metadata": {
        "id": "OmYv2KWF7m8_"
      },
      "execution_count": 25,
      "outputs": []
    },
    {
      "cell_type": "markdown",
      "source": [
        "> After dropping these columns, the dataset is now more streamlined for further analysis."
      ],
      "metadata": {
        "id": "_29kPvYu7wFm"
      }
    },
    {
      "cell_type": "markdown",
      "source": [
        "#### Finding and Deleting Duplicates\n",
        "Duplicates in the dataset were identified and removed based on the following important columns: `id`, `name`, `host_id`, `lat`, `long`, and `price`. This ensures that each listing is unique and prevents any potential bias or redundancy in the analysis.\n"
      ],
      "metadata": {
        "id": "4z59wCuG8a2g"
      }
    },
    {
      "cell_type": "code",
      "source": [
        "# Count duplicates based on important columns\n",
        "duplicate_count = df.duplicated(subset=['id', 'name', 'host_id', 'lat', 'long', 'price']).sum()\n",
        "\n",
        "# Display the count of duplicates\n",
        "print(f\"Number of duplicate rows: {duplicate_count}\")\n",
        "\n",
        "# Drop duplicates based on important columns\n",
        "df.drop_duplicates(subset=['id', 'name', 'host_id', 'lat', 'long', 'price'], keep='first', inplace=True)\n",
        "\n",
        "# Summary of the dataset after removing duplicates\n",
        "df.info()"
      ],
      "metadata": {
        "id": "WebBAJXh8dWZ",
        "outputId": "c0792712-c18a-409f-9d23-fb639578cab0",
        "colab": {
          "base_uri": "https://localhost:8080/"
        }
      },
      "execution_count": 26,
      "outputs": [
        {
          "output_type": "stream",
          "name": "stdout",
          "text": [
            "Number of duplicate rows: 541\n",
            "<class 'pandas.core.frame.DataFrame'>\n",
            "Index: 102058 entries, 0 to 102057\n",
            "Data columns (total 24 columns):\n",
            " #   Column                          Non-Null Count   Dtype         \n",
            "---  ------                          --------------   -----         \n",
            " 0   id                              102058 non-null  int64         \n",
            " 1   name                            101808 non-null  object        \n",
            " 2   host_id                         102058 non-null  int64         \n",
            " 3   host_identity_verified          101769 non-null  object        \n",
            " 4   host_name                       101654 non-null  object        \n",
            " 5   neighbourhood_group             102029 non-null  object        \n",
            " 6   neighbourhood                   102042 non-null  object        \n",
            " 7   lat                             102050 non-null  float64       \n",
            " 8   long                            102050 non-null  float64       \n",
            " 9   country                         101526 non-null  object        \n",
            " 10  country_code                    101927 non-null  object        \n",
            " 11  instant_bookable                101953 non-null  object        \n",
            " 12  cancellation_policy             101982 non-null  object        \n",
            " 13  room_type                       102058 non-null  object        \n",
            " 14  construction_year               101844 non-null  Int64         \n",
            " 15  price                           101811 non-null  float64       \n",
            " 16  service_fee                     101785 non-null  float64       \n",
            " 17  minimum_nights                  102058 non-null  int64         \n",
            " 18  number_of_reviews               102058 non-null  int64         \n",
            " 19  last_review                     86226 non-null   datetime64[ns]\n",
            " 20  reviews_per_month               86240 non-null   float64       \n",
            " 21  review_rate_number              101739 non-null  float64       \n",
            " 22  calculated_host_listings_count  101739 non-null  float64       \n",
            " 23  availability_365                101610 non-null  float64       \n",
            "dtypes: Int64(1), datetime64[ns](1), float64(8), int64(4), object(10)\n",
            "memory usage: 19.6+ MB\n"
          ]
        }
      ]
    },
    {
      "cell_type": "markdown",
      "source": [
        "> The dataset contains a certain number of duplicate rows based on the important columns `id`, `name`, `host_id`, `lat`, `long`, and `price`.\n",
        "\n",
        "After identifying the duplicates, they were removed to ensure that each listing is unique. This step helps in preventing any potential bias or redundancy in the analysis.\n"
      ],
      "metadata": {
        "id": "NxRQHigA8iVc"
      }
    },
    {
      "cell_type": "markdown",
      "source": [
        "### Handling Missing Values\n",
        "Based on the nature of each column, the following strategies were applied to handle missing values:\n",
        "\n",
        "- **String Columns**: Filled with a placeholder \"Unknown\".\n",
        "- **Categorical Columns**: Filled with the mode (most frequent value).\n",
        "- **Numerical Columns**: Converted to numeric with `pd.to_numeric` and filled with the median value.\n",
        "- **Date Columns**: Forward fill to maintain temporal sequence.\n",
        "- **Critical Columns (lat, long)**: Rows with missing values were dropped.\n"
      ],
      "metadata": {
        "id": "-H7qRehp-B4W"
      }
    },
    {
      "cell_type": "code",
      "source": [
        "# Fill missing values for string columns with a placeholder\n",
        "df['name'].fillna('Unknown', inplace=True)\n",
        "df['host_name'].fillna('Unknown', inplace=True)\n",
        "\n",
        "# Fill missing values for categorical columns with the mode\n",
        "df['host_identity_verified'].fillna(df['host_identity_verified'].mode()[0], inplace=True)\n",
        "df['neighbourhood_group'].fillna(df['neighbourhood_group'].mode()[0], inplace=True)\n",
        "df['neighbourhood'].fillna(df['neighbourhood'].mode()[0], inplace=True)\n",
        "df['country'].fillna(df['country'].mode()[0], inplace=True)\n",
        "df['country_code'].fillna(df['country_code'].mode()[0], inplace=True)\n",
        "df['instant_bookable'].fillna(df['instant_bookable'].mode()[0], inplace=True)\n",
        "df['cancellation_policy'].fillna(df['cancellation_policy'].mode()[0], inplace=True)\n",
        "\n",
        "# Drop rows with missing values for lat and long\n",
        "df.dropna(subset=['lat', 'long'], inplace=True)\n",
        "\n",
        "# Fill missing values for numerical columns with the median\n",
        "df['construction_year'] = pd.to_numeric(df['construction_year'], errors='coerce').fillna(df['construction_year'].median()).astype('Int64')\n",
        "df['price'] = pd.to_numeric(df['price'], errors='coerce').fillna(df['price'].median())\n",
        "df['service_fee'] = pd.to_numeric(df['service_fee'], errors='coerce').fillna(df['service_fee'].median())\n",
        "df['reviews_per_month'] = pd.to_numeric(df['reviews_per_month'], errors='coerce').fillna(df['reviews_per_month'].median())\n",
        "df['review_rate_number'] = pd.to_numeric(df['review_rate_number'], errors='coerce').fillna(df['review_rate_number'].median())\n",
        "df['calculated_host_listings_count'] = pd.to_numeric(df['calculated_host_listings_count'], errors='coerce').fillna(df['calculated_host_listings_count'].median())\n",
        "df['availability_365'] = pd.to_numeric(df['availability_365'], errors='coerce').fillna(df['availability_365'].median())\n",
        "\n",
        "# Forward fill for last_review\n",
        "df['last_review'].fillna(method='ffill', inplace=True)\n",
        "\n",
        "# Summary of missing values after handling\n",
        "missing_values_summary_after = df.isna().sum()\n",
        "\n",
        "# Display the summary of missing values after handling\n",
        "missing_values_summary_after"
      ],
      "metadata": {
        "id": "_cl2MnCD-E5u",
        "outputId": "2e058b51-a3a4-410e-c417-eed55903adff",
        "colab": {
          "base_uri": "https://localhost:8080/",
          "height": 871
        }
      },
      "execution_count": 27,
      "outputs": [
        {
          "output_type": "stream",
          "name": "stderr",
          "text": [
            "<ipython-input-27-8429efc3edb5>:27: FutureWarning: Series.fillna with 'method' is deprecated and will raise in a future version. Use obj.ffill() or obj.bfill() instead.\n",
            "  df['last_review'].fillna(method='ffill', inplace=True)\n"
          ]
        },
        {
          "output_type": "execute_result",
          "data": {
            "text/plain": [
              "id                                0\n",
              "name                              0\n",
              "host_id                           0\n",
              "host_identity_verified            0\n",
              "host_name                         0\n",
              "neighbourhood_group               0\n",
              "neighbourhood                     0\n",
              "lat                               0\n",
              "long                              0\n",
              "country                           0\n",
              "country_code                      0\n",
              "instant_bookable                  0\n",
              "cancellation_policy               0\n",
              "room_type                         0\n",
              "construction_year                 0\n",
              "price                             0\n",
              "service_fee                       0\n",
              "minimum_nights                    0\n",
              "number_of_reviews                 0\n",
              "last_review                       0\n",
              "reviews_per_month                 0\n",
              "review_rate_number                0\n",
              "calculated_host_listings_count    0\n",
              "availability_365                  0\n",
              "dtype: int64"
            ],
            "text/html": [
              "<div>\n",
              "<style scoped>\n",
              "    .dataframe tbody tr th:only-of-type {\n",
              "        vertical-align: middle;\n",
              "    }\n",
              "\n",
              "    .dataframe tbody tr th {\n",
              "        vertical-align: top;\n",
              "    }\n",
              "\n",
              "    .dataframe thead th {\n",
              "        text-align: right;\n",
              "    }\n",
              "</style>\n",
              "<table border=\"1\" class=\"dataframe\">\n",
              "  <thead>\n",
              "    <tr style=\"text-align: right;\">\n",
              "      <th></th>\n",
              "      <th>0</th>\n",
              "    </tr>\n",
              "  </thead>\n",
              "  <tbody>\n",
              "    <tr>\n",
              "      <th>id</th>\n",
              "      <td>0</td>\n",
              "    </tr>\n",
              "    <tr>\n",
              "      <th>name</th>\n",
              "      <td>0</td>\n",
              "    </tr>\n",
              "    <tr>\n",
              "      <th>host_id</th>\n",
              "      <td>0</td>\n",
              "    </tr>\n",
              "    <tr>\n",
              "      <th>host_identity_verified</th>\n",
              "      <td>0</td>\n",
              "    </tr>\n",
              "    <tr>\n",
              "      <th>host_name</th>\n",
              "      <td>0</td>\n",
              "    </tr>\n",
              "    <tr>\n",
              "      <th>neighbourhood_group</th>\n",
              "      <td>0</td>\n",
              "    </tr>\n",
              "    <tr>\n",
              "      <th>neighbourhood</th>\n",
              "      <td>0</td>\n",
              "    </tr>\n",
              "    <tr>\n",
              "      <th>lat</th>\n",
              "      <td>0</td>\n",
              "    </tr>\n",
              "    <tr>\n",
              "      <th>long</th>\n",
              "      <td>0</td>\n",
              "    </tr>\n",
              "    <tr>\n",
              "      <th>country</th>\n",
              "      <td>0</td>\n",
              "    </tr>\n",
              "    <tr>\n",
              "      <th>country_code</th>\n",
              "      <td>0</td>\n",
              "    </tr>\n",
              "    <tr>\n",
              "      <th>instant_bookable</th>\n",
              "      <td>0</td>\n",
              "    </tr>\n",
              "    <tr>\n",
              "      <th>cancellation_policy</th>\n",
              "      <td>0</td>\n",
              "    </tr>\n",
              "    <tr>\n",
              "      <th>room_type</th>\n",
              "      <td>0</td>\n",
              "    </tr>\n",
              "    <tr>\n",
              "      <th>construction_year</th>\n",
              "      <td>0</td>\n",
              "    </tr>\n",
              "    <tr>\n",
              "      <th>price</th>\n",
              "      <td>0</td>\n",
              "    </tr>\n",
              "    <tr>\n",
              "      <th>service_fee</th>\n",
              "      <td>0</td>\n",
              "    </tr>\n",
              "    <tr>\n",
              "      <th>minimum_nights</th>\n",
              "      <td>0</td>\n",
              "    </tr>\n",
              "    <tr>\n",
              "      <th>number_of_reviews</th>\n",
              "      <td>0</td>\n",
              "    </tr>\n",
              "    <tr>\n",
              "      <th>last_review</th>\n",
              "      <td>0</td>\n",
              "    </tr>\n",
              "    <tr>\n",
              "      <th>reviews_per_month</th>\n",
              "      <td>0</td>\n",
              "    </tr>\n",
              "    <tr>\n",
              "      <th>review_rate_number</th>\n",
              "      <td>0</td>\n",
              "    </tr>\n",
              "    <tr>\n",
              "      <th>calculated_host_listings_count</th>\n",
              "      <td>0</td>\n",
              "    </tr>\n",
              "    <tr>\n",
              "      <th>availability_365</th>\n",
              "      <td>0</td>\n",
              "    </tr>\n",
              "  </tbody>\n",
              "</table>\n",
              "</div><br><label><b>dtype:</b> int64</label>"
            ]
          },
          "metadata": {},
          "execution_count": 27
        }
      ]
    },
    {
      "cell_type": "markdown",
      "source": [
        "> After applying these strategies, the dataset is now cleaner and more reliable for further analysis."
      ],
      "metadata": {
        "id": "fqcsDPjn-g4H"
      }
    }
  ]
}