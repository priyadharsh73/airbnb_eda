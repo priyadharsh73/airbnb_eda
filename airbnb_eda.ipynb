{
  "nbformat": 4,
  "nbformat_minor": 0,
  "metadata": {
    "colab": {
      "provenance": [],
      "authorship_tag": "ABX9TyOdjZ9YfgluvkCPUjymKPV4",
      "include_colab_link": true
    },
    "kernelspec": {
      "name": "python3",
      "display_name": "Python 3"
    },
    "language_info": {
      "name": "python"
    }
  },
  "cells": [
    {
      "cell_type": "markdown",
      "metadata": {
        "id": "view-in-github",
        "colab_type": "text"
      },
      "source": [
        "<a href=\"https://colab.research.google.com/github/priyadharsh73/airbnb_eda/blob/main/airbnb_eda.ipynb\" target=\"_parent\"><img src=\"https://colab.research.google.com/assets/colab-badge.svg\" alt=\"Open In Colab\"/></a>"
      ]
    },
    {
      "cell_type": "markdown",
      "source": [
        "# In-depth Exploratory Data Analysis of Airbnb Dataset\n",
        "\n",
        "## Introduction\n",
        "This notebook provides an in-depth exploratory data analysis (EDA) of the Airbnb dataset. The objective is to uncover insights and patterns in the data to better understand the factors influencing Airbnb listings.\n",
        "\n",
        "### Airbnb Dataset Column Descriptions\n",
        "\n",
        "| Column Name                      | Description                                                                 | Data Type   |\n",
        "|----------------------------------|-----------------------------------------------------------------------------|-------------|\n",
        "| id                               | Unique identifier for the listing                                           | int64       |\n",
        "| name                             | Name of the listing                                                         | object      |\n",
        "| host_id                          | Unique identifier for the host                                              | int64       |\n",
        "| host_identity_verified           | Whether the host's identity is verified                                     | object      |\n",
        "| host_name                        | Name of the host                                                            | object      |\n",
        "| neighbourhood_group              | Grouping of neighbourhoods                                                  | object      |\n",
        "| neighbourhood                    | Name of the neighbourhood                                                   | object      |\n",
        "| lat                              | Latitude of the listing                                                     | float64     |\n",
        "| long                             | Longitude of the listing                                                    | float64     |\n",
        "| country                          | Country where the listing is located                                        | object      |\n",
        "| country_code                     | Country code                                                                | object      |\n",
        "| instant_bookable                 | Whether the listing is instantly bookable                                   | object      |\n",
        "| cancellation_policy              | Cancellation policy of the listing                                          | object      |\n",
        "| room_type                        | Type of room offered                                                        | object      |\n",
        "| construction_year                | Year the property was constructed                                           | float64     |\n",
        "| price                            | Price per night                                                             | float64     |\n",
        "| service_fee                      | Service fee charged                                                         | float64     |\n",
        "| minimum_nights                   | Minimum number of nights required to book                                   | float64     |\n",
        "| number_of_reviews                | Total number of reviews received                                            | float64     |\n",
        "| last_review                      | Date of the last review                                                     | datetime64  |\n",
        "| reviews_per_month                | Average number of reviews per month                                         | float64     |\n",
        "| review_rate_number               | Average rating of the listing                                               | float64     |\n",
        "| calculated_host_listings_count   | Total number of listings by the host                                        | float64     |\n",
        "| availability_365                 | Number of days the listing is available in a year                           | float64     |\n",
        "| house_rules                      | House rules for the listing                                                 | object      |\n",
        "| license                          | License number of the listing (if applicable)                               | object      |"
      ],
      "metadata": {
        "id": "QCG0Hy1VcZ3i"
      }
    },
    {
      "cell_type": "markdown",
      "source": [
        "## Data Loading and Preparation\n",
        "\n",
        "### Import Libraries\n",
        "First, import the necessary libraries for data manipulation, visualization, and mapping."
      ],
      "metadata": {
        "id": "5nPDJ_mpq1MJ"
      }
    },
    {
      "cell_type": "code",
      "execution_count": 2,
      "metadata": {
        "id": "BYGbMPg_TW_t"
      },
      "outputs": [],
      "source": [
        "import pandas as pd\n",
        "import numpy as np\n",
        "import matplotlib.pyplot as plt\n",
        "import seaborn as sns\n",
        "import plotly.express as px\n",
        "import plotly.graph_objects as go\n",
        "import folium\n",
        "from folium.plugins import MarkerCluster\n",
        "import zipfile\n",
        "import requests\n",
        "from io import BytesIO"
      ]
    },
    {
      "cell_type": "markdown",
      "source": [
        "### Download and Extract ZIP File from GitHub\n",
        "\n",
        "This step involves downloading the ZIP file containing the Airbnb dataset from GitHub and extracting the CSV file from it. The `requests` library is used to download the file, and the `zipfile` and `io` libraries are used to handle the extraction. The extracted CSV file is then read into a pandas DataFrame for further analysis.\n"
      ],
      "metadata": {
        "id": "Ai1K8fqKhABf"
      }
    },
    {
      "cell_type": "code",
      "source": [
        "# URL of the ZIP file on GitHub (direct download link)\n",
        "url = 'https://github.com/priyadharsh73/airbnb_eda/raw/main/airbnb_dataset.zip'\n",
        "filename = 'Airbnb_Open_Data.csv'\n",
        "\n",
        "# Download the ZIP file\n",
        "response = requests.get(url)\n",
        "zip_file = BytesIO(response.content)\n",
        "\n",
        "# Check if the response is valid\n",
        "if response.status_code == 200:\n",
        "    try:\n",
        "        # Extract the ZIP file\n",
        "        with zipfile.ZipFile(zip_file, 'r') as z:\n",
        "            # List all files in the ZIP\n",
        "            print(z.namelist())\n",
        "\n",
        "            # Extract and read the CSV file\n",
        "            with z.open(filename) as f:\n",
        "                df = pd.read_csv(f, low_memory=False)\n",
        "\n",
        "        # Display the first few rows of the DataFrame\n",
        "    except zipfile.BadZipFile:\n",
        "        print(\"Error: The file is not a valid ZIP file.\")\n",
        "else:\n",
        "    print(f\"Error: Failed to download the file. Status code: {response.status_code}\")\n"
      ],
      "metadata": {
        "colab": {
          "base_uri": "https://localhost:8080/"
        },
        "id": "8dESewrieOsB",
        "outputId": "5df1e4d4-c2c9-4aa3-b19e-b789f2f1f761"
      },
      "execution_count": 34,
      "outputs": [
        {
          "output_type": "stream",
          "name": "stdout",
          "text": [
            "['Airbnb_Open_Data.csv']\n"
          ]
        }
      ]
    },
    {
      "cell_type": "markdown",
      "source": [
        "###Clean Column Names\n",
        "- Use the `str.replace()` method to replace spaces with underscores.\n",
        "- Use the `str.lower()` method to convert column names to lowercase.\n",
        "\n",
        "Here’s the code to clean the column names:"
      ],
      "metadata": {
        "id": "cnll1ChoqIGG"
      }
    },
    {
      "cell_type": "code",
      "source": [
        "# Clean column names by replacing spaces with underscores and converting to lowercase\n",
        "df.columns = df.columns.str.replace(' ', '_').str.lower()\n",
        "\n",
        "# Check the cleaned column names\n",
        "print(\"Cleaned column names:\")\n",
        "print(df.columns)"
      ],
      "metadata": {
        "id": "SNAvH9JQqYYG",
        "outputId": "e75b3fee-5b3b-4918-b020-e9112d8bbcc7",
        "colab": {
          "base_uri": "https://localhost:8080/"
        }
      },
      "execution_count": 35,
      "outputs": [
        {
          "output_type": "stream",
          "name": "stdout",
          "text": [
            "Cleaned column names:\n",
            "Index(['id', 'name', 'host_id', 'host_identity_verified', 'host_name',\n",
            "       'neighbourhood_group', 'neighbourhood', 'lat', 'long', 'country',\n",
            "       'country_code', 'instant_bookable', 'cancellation_policy', 'room_type',\n",
            "       'construction_year', 'price', 'service_fee', 'minimum_nights',\n",
            "       'number_of_reviews', 'last_review', 'reviews_per_month',\n",
            "       'review_rate_number', 'calculated_host_listings_count',\n",
            "       'availability_365', 'house_rules', 'license'],\n",
            "      dtype='object')\n"
          ]
        }
      ]
    },
    {
      "cell_type": "code",
      "source": [
        "df.info()"
      ],
      "metadata": {
        "id": "LVWZGOxKvtGx",
        "outputId": "33b43f92-3950-450d-c478-0d7cd7672b6a",
        "colab": {
          "base_uri": "https://localhost:8080/"
        }
      },
      "execution_count": 36,
      "outputs": [
        {
          "output_type": "stream",
          "name": "stdout",
          "text": [
            "<class 'pandas.core.frame.DataFrame'>\n",
            "RangeIndex: 102599 entries, 0 to 102598\n",
            "Data columns (total 26 columns):\n",
            " #   Column                          Non-Null Count   Dtype  \n",
            "---  ------                          --------------   -----  \n",
            " 0   id                              102599 non-null  int64  \n",
            " 1   name                            102349 non-null  object \n",
            " 2   host_id                         102599 non-null  int64  \n",
            " 3   host_identity_verified          102310 non-null  object \n",
            " 4   host_name                       102193 non-null  object \n",
            " 5   neighbourhood_group             102570 non-null  object \n",
            " 6   neighbourhood                   102583 non-null  object \n",
            " 7   lat                             102591 non-null  float64\n",
            " 8   long                            102591 non-null  float64\n",
            " 9   country                         102067 non-null  object \n",
            " 10  country_code                    102468 non-null  object \n",
            " 11  instant_bookable                102494 non-null  object \n",
            " 12  cancellation_policy             102523 non-null  object \n",
            " 13  room_type                       102599 non-null  object \n",
            " 14  construction_year               102385 non-null  float64\n",
            " 15  price                           102352 non-null  object \n",
            " 16  service_fee                     102326 non-null  object \n",
            " 17  minimum_nights                  102190 non-null  float64\n",
            " 18  number_of_reviews               102416 non-null  float64\n",
            " 19  last_review                     86706 non-null   object \n",
            " 20  reviews_per_month               86720 non-null   float64\n",
            " 21  review_rate_number              102273 non-null  float64\n",
            " 22  calculated_host_listings_count  102280 non-null  float64\n",
            " 23  availability_365                102151 non-null  float64\n",
            " 24  house_rules                     50468 non-null   object \n",
            " 25  license                         2 non-null       object \n",
            "dtypes: float64(9), int64(2), object(15)\n",
            "memory usage: 20.4+ MB\n"
          ]
        }
      ]
    },
    {
      "cell_type": "code",
      "source": [
        "# Check for missing values\n",
        "print(df.isnull().sum())\n"
      ],
      "metadata": {
        "id": "4TIVl8rRwWq5",
        "outputId": "83331837-a5a9-4383-8911-9c5524657c64",
        "colab": {
          "base_uri": "https://localhost:8080/"
        }
      },
      "execution_count": 37,
      "outputs": [
        {
          "output_type": "stream",
          "name": "stdout",
          "text": [
            "id                                     0\n",
            "name                                 250\n",
            "host_id                                0\n",
            "host_identity_verified               289\n",
            "host_name                            406\n",
            "neighbourhood_group                   29\n",
            "neighbourhood                         16\n",
            "lat                                    8\n",
            "long                                   8\n",
            "country                              532\n",
            "country_code                         131\n",
            "instant_bookable                     105\n",
            "cancellation_policy                   76\n",
            "room_type                              0\n",
            "construction_year                    214\n",
            "price                                247\n",
            "service_fee                          273\n",
            "minimum_nights                       409\n",
            "number_of_reviews                    183\n",
            "last_review                        15893\n",
            "reviews_per_month                  15879\n",
            "review_rate_number                   326\n",
            "calculated_host_listings_count       319\n",
            "availability_365                     448\n",
            "house_rules                        52131\n",
            "license                           102597\n",
            "dtype: int64\n"
          ]
        }
      ]
    },
    {
      "cell_type": "markdown",
      "source": [
        "### Observations on Data Type Misinterpretation and Missing Values\n",
        "\n",
        "#### Data Type Misinterpretation\n",
        "1. **Price and Service Fee**: These columns are interpreted as `object` types due to the presence of currency symbols. They should be converted to `float` after removing the symbols.\n",
        "2. **Construction Year**: This column is interpreted as `float64` but should be an `int64` type.\n",
        "3. **Minimum Nights, Number of Reviews, Review Rate Number, Calculated Host Listings Count, Availability 365**: These columns are interpreted as `float64` but should be `int64` types.\n",
        "4. **Last Review**: This column is interpreted as `object` but should be converted to `datetime`.\n",
        "5. **Reviews per Month**: This column is correctly interpreted as `float64`.\n",
        "\n",
        "#### Missing Values\n",
        "1. **High Missing Values**:\n",
        "   - **House Rules**: 52,131 missing values, indicating that many listings do not provide house rules.\n",
        "   - **License**: 102,597 missing values, suggesting that almost no listings have a license provided.\n",
        "   - **Last Review**: 15,893 missing values, indicating many listings have not been reviewed recently.\n",
        "   - **Reviews per Month**: 15,879 missing values, likely correlated with the missing last review dates.\n",
        "\n",
        "2. **Moderate Missing Values**:\n",
        "   - **Country**: 532 missing values.\n",
        "   - **Host Name**: 406 missing values.\n",
        "   - **Minimum Nights**: 409 missing values.\n",
        "   - **Availability 365**: 448 missing values.\n",
        "   - **Review Rate Number**: 326 missing values.\n",
        "   - **Calculated Host Listings Count**: 319 missing values.\n",
        "   - **Host Identity Verified**: 289 missing values.\n",
        "   - **Service Fee**: 273 missing values.\n",
        "   - **Price**: 247 missing values.\n",
        "   - **Construction Year**: 214 missing values.\n",
        "   - **Number of Reviews**: 183 missing values.\n",
        "   - **Country Code**: 131 missing values.\n",
        "   - **Instant Bookable**: 105 missing values.\n",
        "   - **Cancellation Policy**: 76 missing values.\n",
        "   - **Name**: 250 missing values.\n",
        "\n",
        "3. **Low Missing Values**:\n",
        "   - **Neighbourhood Group**: 29 missing values.\n",
        "   - **Neighbourhood**: 16 missing values.\n",
        "   - **Latitude and Longitude**: 8 missing values each.\n",
        "\n",
        "#### Next Steps\n",
        "1. **Handle Missing Values**: Decide on strategies to fill or drop missing values based on the significance of each column.\n",
        "2. **Correct Data Types**: Convert columns to appropriate data types for accurate analysis.\n",
        "3. **Further Cleaning**: Address any other inconsistencies or errors in the data."
      ],
      "metadata": {
        "id": "HxWyMB0gxQ6g"
      }
    }
  ]
}