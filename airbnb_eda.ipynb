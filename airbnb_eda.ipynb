{
  "nbformat": 4,
  "nbformat_minor": 0,
  "metadata": {
    "colab": {
      "provenance": [],
      "authorship_tag": "ABX9TyNR0yTsl0ruEyqUn27ACXbM",
      "include_colab_link": true
    },
    "kernelspec": {
      "name": "python3",
      "display_name": "Python 3"
    },
    "language_info": {
      "name": "python"
    }
  },
  "cells": [
    {
      "cell_type": "markdown",
      "metadata": {
        "id": "view-in-github",
        "colab_type": "text"
      },
      "source": [
        "<a href=\"https://colab.research.google.com/github/priyadharsh73/airbnb_eda/blob/main/airbnb_eda.ipynb\" target=\"_parent\"><img src=\"https://colab.research.google.com/assets/colab-badge.svg\" alt=\"Open In Colab\"/></a>"
      ]
    },
    {
      "cell_type": "markdown",
      "source": [
        "# In-depth Exploratory Data Analysis of Airbnb Dataset\n",
        "\n",
        "## Introduction\n",
        "This notebook provides an in-depth exploratory data analysis (EDA) of the Airbnb dataset. The objective is to uncover insights and patterns in the data to better understand the factors influencing Airbnb listings.\n",
        "\n",
        "## Data Loading and Preparation\n",
        "\n",
        "### Import Libraries\n",
        "First, import the necessary libraries for data manipulation, visualization, and mapping.\n"
      ],
      "metadata": {
        "id": "QCG0Hy1VcZ3i"
      }
    },
    {
      "cell_type": "code",
      "execution_count": 2,
      "metadata": {
        "id": "BYGbMPg_TW_t"
      },
      "outputs": [],
      "source": [
        "import pandas as pd\n",
        "import numpy as np\n",
        "import matplotlib.pyplot as plt\n",
        "import seaborn as sns\n",
        "import plotly.express as px\n",
        "import plotly.graph_objects as go\n",
        "import folium\n",
        "from folium.plugins import MarkerCluster\n",
        "import zipfile\n",
        "import requests\n",
        "from io import BytesIO"
      ]
    },
    {
      "cell_type": "markdown",
      "source": [
        "### Download and Extract ZIP File from GitHub\n",
        "\n",
        "This step involves downloading the ZIP file containing the Airbnb dataset from GitHub and extracting the CSV file from it. The `requests` library is used to download the file, and the `zipfile` and `io` libraries are used to handle the extraction. The extracted CSV file is then read into a pandas DataFrame for further analysis.\n"
      ],
      "metadata": {
        "id": "Ai1K8fqKhABf"
      }
    },
    {
      "cell_type": "code",
      "source": [
        "# URL of the ZIP file on GitHub (direct download link)\n",
        "url = 'https://github.com/priyadharsh73/airbnb_eda/raw/main/airbnb_dataset.zip'\n",
        "filename = 'Airbnb_Open_Data.csv'\n",
        "\n",
        "# Download the ZIP file\n",
        "response = requests.get(url)\n",
        "zip_file = BytesIO(response.content)\n",
        "\n",
        "# Check if the response is valid\n",
        "if response.status_code == 200:\n",
        "    try:\n",
        "        # Extract the ZIP file\n",
        "        with zipfile.ZipFile(zip_file, 'r') as z:\n",
        "            # List all files in the ZIP\n",
        "            print(z.namelist())\n",
        "\n",
        "            # Extract and read the CSV file\n",
        "            with z.open(filename) as f:\n",
        "                df = pd.read_csv(f, low_memory=False)\n",
        "\n",
        "        # Display the first few rows of the DataFrame\n",
        "        print(df.head())\n",
        "    except zipfile.BadZipFile:\n",
        "        print(\"Error: The file is not a valid ZIP file.\")\n",
        "else:\n",
        "    print(f\"Error: Failed to download the file. Status code: {response.status_code}\")\n"
      ],
      "metadata": {
        "colab": {
          "base_uri": "https://localhost:8080/"
        },
        "id": "8dESewrieOsB",
        "outputId": "27b4de5d-d41e-408e-edd6-096c36ed2c46"
      },
      "execution_count": 7,
      "outputs": [
        {
          "output_type": "stream",
          "name": "stdout",
          "text": [
            "['Airbnb_Open_Data.csv']\n",
            "        id                                              NAME      host id  \\\n",
            "0  1001254                Clean & quiet apt home by the park  80014485718   \n",
            "1  1002102                             Skylit Midtown Castle  52335172823   \n",
            "2  1002403               THE VILLAGE OF HARLEM....NEW YORK !  78829239556   \n",
            "3  1002755                                               NaN  85098326012   \n",
            "4  1003689  Entire Apt: Spacious Studio/Loft by central park  92037596077   \n",
            "\n",
            "  host_identity_verified host name neighbourhood group neighbourhood  \\\n",
            "0            unconfirmed  Madaline            Brooklyn    Kensington   \n",
            "1               verified     Jenna           Manhattan       Midtown   \n",
            "2                    NaN     Elise           Manhattan        Harlem   \n",
            "3            unconfirmed     Garry            Brooklyn  Clinton Hill   \n",
            "4               verified    Lyndon           Manhattan   East Harlem   \n",
            "\n",
            "        lat      long        country  ... service fee minimum nights  \\\n",
            "0  40.64749 -73.97237  United States  ...       $193            10.0   \n",
            "1  40.75362 -73.98377  United States  ...        $28            30.0   \n",
            "2  40.80902 -73.94190  United States  ...       $124             3.0   \n",
            "3  40.68514 -73.95976  United States  ...        $74            30.0   \n",
            "4  40.79851 -73.94399  United States  ...        $41            10.0   \n",
            "\n",
            "  number of reviews last review  reviews per month review rate number  \\\n",
            "0               9.0  10/19/2021               0.21                4.0   \n",
            "1              45.0   5/21/2022               0.38                4.0   \n",
            "2               0.0         NaN                NaN                5.0   \n",
            "3             270.0    7/5/2019               4.64                4.0   \n",
            "4               9.0  11/19/2018               0.10                3.0   \n",
            "\n",
            "  calculated host listings count  availability 365  \\\n",
            "0                            6.0             286.0   \n",
            "1                            2.0             228.0   \n",
            "2                            1.0             352.0   \n",
            "3                            1.0             322.0   \n",
            "4                            1.0             289.0   \n",
            "\n",
            "                                         house_rules license  \n",
            "0  Clean up and treat the home the way you'd like...     NaN  \n",
            "1  Pet friendly but please confirm with me if the...     NaN  \n",
            "2  I encourage you to use my kitchen, cooking and...     NaN  \n",
            "3                                                NaN     NaN  \n",
            "4  Please no smoking in the house, porch or on th...     NaN  \n",
            "\n",
            "[5 rows x 26 columns]\n"
          ]
        }
      ]
    },
    {
      "cell_type": "markdown",
      "source": [
        "### Data Cleaning\n",
        "Handle missing values and duplicates to ensure the dataset is clean and ready for analysis."
      ],
      "metadata": {
        "id": "VgmQO0YsiFyG"
      }
    },
    {
      "cell_type": "code",
      "source": [
        "# Drop rows with missing values\n",
        "df.dropna(inplace=True)\n",
        "\n",
        "# Drop duplicate rows\n",
        "df.drop_duplicates(inplace=True)\n"
      ],
      "metadata": {
        "id": "G8xV54VUiQLh"
      },
      "execution_count": 8,
      "outputs": []
    },
    {
      "cell_type": "code",
      "source": [
        "df.info()"
      ],
      "metadata": {
        "id": "aYY_a4Xkiak_",
        "outputId": "35502ea8-cda8-45c6-c83f-698774739c5e",
        "colab": {
          "base_uri": "https://localhost:8080/"
        }
      },
      "execution_count": 9,
      "outputs": [
        {
          "output_type": "stream",
          "name": "stdout",
          "text": [
            "<class 'pandas.core.frame.DataFrame'>\n",
            "Index: 1 entries, 11114 to 11114\n",
            "Data columns (total 26 columns):\n",
            " #   Column                          Non-Null Count  Dtype  \n",
            "---  ------                          --------------  -----  \n",
            " 0   id                              1 non-null      int64  \n",
            " 1   NAME                            1 non-null      object \n",
            " 2   host id                         1 non-null      int64  \n",
            " 3   host_identity_verified          1 non-null      object \n",
            " 4   host name                       1 non-null      object \n",
            " 5   neighbourhood group             1 non-null      object \n",
            " 6   neighbourhood                   1 non-null      object \n",
            " 7   lat                             1 non-null      float64\n",
            " 8   long                            1 non-null      float64\n",
            " 9   country                         1 non-null      object \n",
            " 10  country code                    1 non-null      object \n",
            " 11  instant_bookable                1 non-null      object \n",
            " 12  cancellation_policy             1 non-null      object \n",
            " 13  room type                       1 non-null      object \n",
            " 14  Construction year               1 non-null      float64\n",
            " 15  price                           1 non-null      object \n",
            " 16  service fee                     1 non-null      object \n",
            " 17  minimum nights                  1 non-null      float64\n",
            " 18  number of reviews               1 non-null      float64\n",
            " 19  last review                     1 non-null      object \n",
            " 20  reviews per month               1 non-null      float64\n",
            " 21  review rate number              1 non-null      float64\n",
            " 22  calculated host listings count  1 non-null      float64\n",
            " 23  availability 365                1 non-null      float64\n",
            " 24  house_rules                     1 non-null      object \n",
            " 25  license                         1 non-null      object \n",
            "dtypes: float64(9), int64(2), object(15)\n",
            "memory usage: 216.0+ bytes\n"
          ]
        }
      ]
    }
  ]
}